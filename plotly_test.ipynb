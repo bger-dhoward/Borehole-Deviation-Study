{
 "cells": [
  {
   "cell_type": "code",
   "execution_count": 1,
   "id": "a2155884-e421-4c85-a32f-23550a994353",
   "metadata": {},
   "outputs": [
    {
     "data": {
      "application/vnd.plotly.v1+json": {
       "config": {
        "plotlyServerURL": "https://plot.ly"
       },
       "data": [
        {
         "hovertemplate": "country=Albania<br>gdpPercap=%{x}<br>pop=%{y}<br>year=%{z}<extra></extra>",
         "legendgroup": "Albania",
         "line": {
          "color": "#636efa",
          "dash": "solid"
         },
         "marker": {
          "symbol": "circle"
         },
         "mode": "lines",
         "name": "Albania",
         "scene": "scene",
         "showlegend": true,
         "type": "scatter3d",
         "x": {
          "bdata": "gzC3ezkEmUBW8NsQI1meQAnDgCXHEaJAI9kj1GSQpUCHiQYp2OKpQEPUfQACmqtAvHX+7cJdrECrIXGP3TWtQMVTjzTggqNAdjQO9RvyqEBaYmU0NvyxQGAUBI8HMbdA",
          "dtype": "f8"
         },
         "y": {
          "bdata": "iZITAJmHFgCJXhoAPEYeAAKKIgD4SCYAwWsqAPnsLgAiwjIAxk40ACCJNQCL8DYA",
          "dtype": "i4"
         },
         "z": {
          "bdata": "oAelB6oHrwe0B7kHvgfDB8gHzQfSB9cH",
          "dtype": "i2"
         }
        },
        {
         "hovertemplate": "country=Austria<br>gdpPercap=%{x}<br>pop=%{y}<br>year=%{z}<extra></extra>",
         "legendgroup": "Austria",
         "line": {
          "color": "#EF553B",
          "dash": "solid"
         },
         "marker": {
          "symbol": "circle"
         },
         "mode": "lines",
         "name": "Austria",
         "scene": "scene",
         "showlegend": true,
         "type": "scatter3d",
         "x": {
          "bdata": "aM76lBP5t0ADPj+MTEXBQGkdVU1c/8RAjnVxG00RyUAYldQJaEXQQEaU9gZbSdNAU7MHWkUX1UCNtFTe9CHXQEaZDTKBaNpAsOsX7Ppp3EAHmWTkZqjfQFjKMsTPo+FA",
          "dtype": "f8"
         },
         "y": {
          "bdata": "nLVpAGRKagAIy2wAZpBwAIkdcwAufHMAVZRzABelcwDZxXgA9CJ7AFhVfABnHn0A",
          "dtype": "i4"
         },
         "z": {
          "bdata": "oAelB6oHrwe0B7kHvgfDB8gHzQfSB9cH",
          "dtype": "i2"
         }
        },
        {
         "hovertemplate": "country=Belgium<br>gdpPercap=%{x}<br>pop=%{y}<br>year=%{z}<extra></extra>",
         "legendgroup": "Belgium",
         "line": {
          "color": "#00cc96",
          "dash": "solid"
         },
         "marker": {
          "symbol": "circle"
         },
         "mode": "lines",
         "name": "Belgium",
         "scene": "scene",
         "showlegend": true,
         "type": "scatter3d",
         "x": {
          "bdata": "djHNdI1LwEBlyLH1evnCQA+XHHead8VAdsO2RYWuyUBBSBYwCUjQQKdc4V1+q9JAgc8PI/Z81EBCsoAJZP/VQIpZL4bk+dhA2v6VlUzq2kD2KFyPeMXdQG+70FyTc+BA",
          "dtype": "f8"
         },
         "y": {
          "bdata": "JTeFALcpiQBgqYwAFNKRACwmlABo3pUAL2WWAHiblgC2SJkA66KbACJZnQCikp4A",
          "dtype": "i4"
         },
         "z": {
          "bdata": "oAelB6oHrwe0B7kHvgfDB8gHzQfSB9cH",
          "dtype": "i2"
         }
        },
        {
         "hovertemplate": "country=Bosnia and Herzegovina<br>gdpPercap=%{x}<br>pop=%{y}<br>year=%{z}<extra></extra>",
         "legendgroup": "Bosnia and Herzegovina",
         "line": {
          "color": "#ab63fa",
          "dash": "solid"
         },
         "marker": {
          "symbol": "circle"
         },
         "mode": "lines",
         "name": "Bosnia and Herzegovina",
         "scene": "scene",
         "showlegend": true,
         "type": "scatter3d",
         "x": {
          "bdata": "LqOi+0NsjkD0p43q9CeVQNkHWRa8tppAuZbJcLT4oED+1HjpVlimQM3km232kKtAUG7b95wesED9+bZgHdqwQD8djxmQ5aNAhEiGHFueskDJWkOp+YK3QPJ4Wn5MFr1A",
          "dtype": "f8"
         },
         "y": {
          "bdata": "WJYqAKDvLgAIGjMA6LM2APhFOgDwWD4Alas/ACE1QgAN8UAA2Ak3ACiPPwAGdkUA",
          "dtype": "i4"
         },
         "z": {
          "bdata": "oAelB6oHrwe0B7kHvgfDB8gHzQfSB9cH",
          "dtype": "i2"
         }
        },
        {
         "hovertemplate": "country=Bulgaria<br>gdpPercap=%{x}<br>pop=%{y}<br>year=%{z}<extra></extra>",
         "legendgroup": "Bulgaria",
         "line": {
          "color": "#FFA15A",
          "dash": "solid"
         },
         "marker": {
          "symbol": "circle"
         },
         "mode": "lines",
         "name": "Bulgaria",
         "scene": "scene",
         "showlegend": true,
         "type": "scatter3d",
         "x": {
          "bdata": "7dKGw5IYo0AXg4dpV4GnQFDgnXxWnrBAbjSAtwDJtUA1Cd6QfsW5QLdCWI09vL1AsI7jhxgQwEDrcd9q7RfAQBf9oZmfnrhA/n3GhWNSt0BIUPwYxxC+QM8xIHtl3MRA",
          "dtype": "f8"
         },
         "y": {
          "bdata": "lAFvALa/dACSRHoA0s1+AMjcggBeO4YAwq6HALbmiABKHoQACRR7AOfodADqvG8A",
          "dtype": "i4"
         },
         "z": {
          "bdata": "oAelB6oHrwe0B7kHvgfDB8gHzQfSB9cH",
          "dtype": "i2"
         }
        },
        {
         "hovertemplate": "country=Croatia<br>gdpPercap=%{x}<br>pop=%{y}<br>year=%{z}<extra></extra>",
         "legendgroup": "Croatia",
         "line": {
          "color": "#19d3f3",
          "dash": "solid"
         },
         "marker": {
          "symbol": "circle"
         },
         "mode": "lines",
         "name": "Croatia",
         "scene": "scene",
         "showlegend": true,
         "type": "scatter3d",
         "x": {
          "bdata": "s0EmGXleqEAzcEBLO/KwQNo6ONjjZbVAwVWeQEwwu0C+EkiJC+bBQLMkQE2xFMZARpkNMunSyUBqwYu+Sv/KQL0BZr7lf8BAeV2/YM1Jw0DkFB3JMbbGQBTGFoKcjcxA",
          "dtype": "f8"
         },
         "y": {
          "bdata": "9Tw7AMrmPAANND4AHrI/AB55QADR5UEAuFdDANZsRAC9kkQAs9FDAPxfRAAAkEQA",
          "dtype": "i4"
         },
         "z": {
          "bdata": "oAelB6oHrwe0B7kHvgfDB8gHzQfSB9cH",
          "dtype": "i2"
         }
        },
        {
         "hovertemplate": "country=Czech Republic<br>gdpPercap=%{x}<br>pop=%{y}<br>year=%{z}<extra></extra>",
         "legendgroup": "Czech Republic",
         "line": {
          "color": "#FF6692",
          "dash": "solid"
         },
         "marker": {
          "symbol": "circle"
         },
         "mode": "lines",
         "name": "Czech Republic",
         "scene": "scene",
         "showlegend": true,
         "type": "scatter3d",
         "x": {
          "bdata": "RIts5yPcukBBSYEFLCDAQLGnHf5uzMNAKdAn8rhDxkC8lpAPOprJQIs3Mo8U6MxAwFsgQZ0IzkCGyVTBONvPQANDVreC7MtAJsed0kFYz0A8lj50DS/RQB+6oL5TTNZA",
          "dtype": "f8"
         },
         "y": {
          "bdata": "Pz2LAB4rkQA6y5IAZRKWAA58lgD7DpsA2DidAK1XnQC2Z50AIy2dAKd/nAAIFJwA",
          "dtype": "i4"
         },
         "z": {
          "bdata": "oAelB6oHrwe0B7kHvgfDB8gHzQfSB9cH",
          "dtype": "i2"
         }
        },
        {
         "hovertemplate": "country=Denmark<br>gdpPercap=%{x}<br>pop=%{y}<br>year=%{z}<extra></extra>",
         "legendgroup": "Denmark",
         "line": {
          "color": "#B6E880",
          "dash": "solid"
         },
         "marker": {
          "symbol": "circle"
         },
         "mode": "lines",
         "name": "Denmark",
         "scene": "scene",
         "showlegend": true,
         "type": "scatter3d",
         "x": {
          "bdata": "+Um1TzHuwkBPr5Rl1K3FQHx+GCGoh8pA+KqVCZsgz0Bau+1CjWzSQFYOLbK58dNACW05lwIu1UAUlnhAC4fYQH3Qs1mvydlATRB1HxYb3UCCqPsAoGnfQLFtUWbNOeFA",
          "dtype": "f8"
         },
         "y": {
          "bdata": "sCFCAJd6RADz50YAkNVJAGwqTACjpE0AchdOAHA7TgDB6E4AT59QAOUCUgDYb1MA",
          "dtype": "i4"
         },
         "z": {
          "bdata": "oAelB6oHrwe0B7kHvgfDB8gHzQfSB9cH",
          "dtype": "i2"
         }
        },
        {
         "hovertemplate": "country=Finland<br>gdpPercap=%{x}<br>pop=%{y}<br>year=%{z}<extra></extra>",
         "legendgroup": "Finland",
         "line": {
          "color": "#FF97FF",
          "dash": "solid"
         },
         "marker": {
          "symbol": "circle"
         },
         "mode": "lines",
         "name": "Finland",
         "scene": "scene",
         "showlegend": true,
         "type": "scatter3d",
         "x": {
          "bdata": "TUnW4YQYuUA3pbxWanm9QPHxCdnrTcJA4Ln3cNFUxUBIv30dcAvMQOIeSx+2es5A4UBIFkoZ0kCCVmDIQKXUQIs3Mo/KKdRAKqkT0Pwq10AAHebLJYvbQPmgZ7PiNuBA",
          "dtype": "f8"
         },
         "y": {
          "bdata": "hGo+AKD6QQCziEQAMEdGAKnLRgBWT0gANadJAJFASwCP60wARlhOAE89TwC87k8A",
          "dtype": "i4"
         },
         "z": {
          "bdata": "oAelB6oHrwe0B7kHvgfDB8gHzQfSB9cH",
          "dtype": "i2"
         }
        },
        {
         "hovertemplate": "country=France<br>gdpPercap=%{x}<br>pop=%{y}<br>year=%{z}<extra></extra>",
         "legendgroup": "France",
         "line": {
          "color": "#FECB52",
          "dash": "solid"
         },
         "marker": {
          "symbol": "circle"
         },
         "mode": "lines",
         "name": "France",
         "scene": "scene",
         "showlegend": true,
         "type": "scatter3d",
         "x": {
          "bdata": "xeQNMM91u0DACvDdauvAQJ3X2CU+oMRAbATidfVjyUAoCvSJmHXPQBg+IqYo3dFAXhH8b3nR00AQkgVMnIzVQC0hH/TyH9hAZ2FPO3JI2UCXytsRgj/cQHbgnBGBwd1A",
          "dtype": "f8"
         },
         "y": {
          "bdata": "E+KHAk8hpAIgDs8C6Fz0AiBeFQPbOysDHZc+AxTZUAPjdWsDxIV+AytikgMMEaQD",
          "dtype": "i4"
         },
         "z": {
          "bdata": "oAelB6oHrwe0B7kHvgfDB8gHzQfSB9cH",
          "dtype": "i2"
         }
        },
        {
         "hovertemplate": "country=Germany<br>gdpPercap=%{x}<br>pop=%{y}<br>year=%{z}<extra></extra>",
         "legendgroup": "Germany",
         "line": {
          "color": "#636efa",
          "dash": "solid"
         },
         "marker": {
          "symbol": "circle"
         },
         "mode": "lines",
         "name": "Germany",
         "scene": "scene",
         "showlegend": true,
         "type": "scatter3d",
         "x": {
          "bdata": "5hHcSB3ou0CfzarP6eXDQH+HokA7M8lABg39E9DMzECdLouJC5jRQIasbvU6CNRAUYNpGOKD1UALe9rhyw/YQMgkI2dT4tlAHNMTljgj20AD7KNT81TdQL5Nf/aXat9A",
          "dtype": "f8"
         },
         "y": {
          "bdata": "YBUfBD2qOwRtK2UERUqNBKAgsQSFo6gEIk2rBBrjoQQE080EwWPjBE+S6ATkVukE",
          "dtype": "i4"
         },
         "z": {
          "bdata": "oAelB6oHrwe0B7kHvgfDB8gHzQfSB9cH",
          "dtype": "i2"
         }
        },
        {
         "hovertemplate": "country=Greece<br>gdpPercap=%{x}<br>pop=%{y}<br>year=%{z}<extra></extra>",
         "legendgroup": "Greece",
         "line": {
          "color": "#EF553B",
          "dash": "solid"
         },
         "marker": {
          "symbol": "circle"
         },
         "mode": "lines",
         "name": "Greece",
         "scene": "scene",
         "showlegend": true,
         "type": "scatter3d",
         "x": {
          "bdata": "GTp2UGGVq0Buh4bFTDSzQES94NMwgbdAmDEFa4ygwEDfiVkvatrIQPlmmxvDuctAmzi53zXSzUDElEiiQ3zPQO3YCMRfIdFAAmVTruxO0kDBqKROkPzVQHjuPVya5NpA",
          "dtype": "f8"
         },
         "y": {
          "bdata": "AgB2ANqJewDp6IAAmQCFADShhwA/CY4AcFSVANoymAC1jZ0A5ECgAFfNoQByXaMA",
          "dtype": "i4"
         },
         "z": {
          "bdata": "oAelB6oHrwe0B7kHvgfDB8gHzQfSB9cH",
          "dtype": "i2"
         }
        },
        {
         "hovertemplate": "country=Hungary<br>gdpPercap=%{x}<br>pop=%{y}<br>year=%{z}<extra></extra>",
         "legendgroup": "Hungary",
         "line": {
          "color": "#00cc96",
          "dash": "solid"
         },
         "marker": {
          "symbol": "circle"
         },
         "mode": "lines",
         "name": "Hungary",
         "scene": "scene",
         "showlegend": true,
         "type": "scatter3d",
         "x": {
          "bdata": "hpM0f6yPtEDsbTMVLpi3QJUp5iBcfr1AW+uLhFI3wkBKmGn7U9zDQFOu8C5rzcZAumbyzf6AyEBeEfxvPV3JQPOOU3TQk8RAxLEubmPgxkC5GW7A9/3MQEJ4tHE8ltFA",
          "dtype": "f8"
         },
         "y": {
          "bdata": "AAWRAJghlgCYjJkAPv+bAOuZngBzT6IAf1qjAATwoQCM6J0ATFKcAPHbmQAM65cA",
          "dtype": "i4"
         },
         "z": {
          "bdata": "oAelB6oHrwe0B7kHvgfDB8gHzQfSB9cH",
          "dtype": "i2"
         }
        },
        {
         "hovertemplate": "country=Iceland<br>gdpPercap=%{x}<br>pop=%{y}<br>year=%{z}<extra></extra>",
         "legendgroup": "Iceland",
         "line": {
          "color": "#ab63fa",
          "dash": "solid"
         },
         "marker": {
          "symbol": "circle"
         },
         "mode": "lines",
         "name": "Iceland",
         "scene": "scene",
         "showlegend": true,
         "type": "scatter3d",
         "x": {
          "bdata": "p0HRPLBjvEDptkQuAA7CQA39E1wUN8RA12mkpfIDykCwPbMkCNvOQFjFG5m9MdNAFK5H4Wa51kB0B7EzzUraQG0csRYZjthAL1bUYEZn20DGounszG7eQAtjC0GZquFA",
          "dtype": "f8"
         },
         "y": {
          "bdata": "+kECAPaEAgAlxwIAFAgDAHsxAwB/YgMADZIDAMS7AwDE8wMAWCMEAB5lBABrmwQA",
          "dtype": "i4"
         },
         "z": {
          "bdata": "oAelB6oHrwe0B7kHvgfDB8gHzQfSB9cH",
          "dtype": "i2"
         }
        },
        {
         "hovertemplate": "country=Ireland<br>gdpPercap=%{x}<br>pop=%{y}<br>year=%{z}<extra></extra>",
         "legendgroup": "Ireland",
         "line": {
          "color": "#FFA15A",
          "dash": "solid"
         },
         "marker": {
          "symbol": "circle"
         },
         "mode": "lines",
         "name": "Ireland",
         "scene": "scene",
         "showlegend": true,
         "type": "scatter3d",
         "x": {
          "bdata": "J2iTw0datEBGXWvvE9+1QHH/kemY57lAoiWPp5HnvUCbkUHuYp3CQJD3qpV9x8VATn/2IymlyECqmiDqbhjLQJCg+DG0JdFAxCXHnXzy10BYVpqUoaPgQCxlGeJ/3ONA",
          "dtype": "f8"
         },
         "y": {
          "bdata": "3AstAAzrKwCwLisAhEAsABAmLgDc7DEAwBk1ALwDNgCBSTYAIfU3APMwOwAesz4A",
          "dtype": "i4"
         },
         "z": {
          "bdata": "oAelB6oHrwe0B7kHvgfDB8gHzQfSB9cH",
          "dtype": "i2"
         }
        },
        {
         "hovertemplate": "country=Italy<br>gdpPercap=%{x}<br>pop=%{y}<br>year=%{z}<extra></extra>",
         "legendgroup": "Italy",
         "line": {
          "color": "#19d3f3",
          "dash": "solid"
         },
         "marker": {
          "symbol": "circle"
         },
         "mode": "lines",
         "name": "Italy",
         "scene": "scene",
         "showlegend": true,
         "type": "scatter3d",
         "x": {
          "bdata": "gruzdmdDs0CXAtL+p2i4QJT7HYrKGcBAx0YgXjOTw0AmGTkLo/bHQF66SQz+18tA5/up8V4m0EAdd0oHz8HSQKDgYkVpf9VABK3AkMEY2EDd0mpIBlDbQLyWkA9u5ttA",
          "dtype": "f8"
         },
         "y": {
          "bdata": "UFPXAjB17gJAzgcD3KIjA3yNPQNtZVcDVKpeA2egYQOPUmMDLRFtA1flcwOVQ3cD",
          "dtype": "i4"
         },
         "z": {
          "bdata": "oAelB6oHrwe0B7kHvgfDB8gHzQfSB9cH",
          "dtype": "i2"
         }
        },
        {
         "hovertemplate": "country=Montenegro<br>gdpPercap=%{x}<br>pop=%{y}<br>year=%{z}<extra></extra>",
         "legendgroup": "Montenegro",
         "line": {
          "color": "#FF6692",
          "dash": "solid"
         },
         "marker": {
          "symbol": "circle"
         },
         "mode": "lines",
         "name": "Montenegro",
         "scene": "scene",
         "showlegend": true,
         "type": "scatter3d",
         "x": {
          "bdata": "A+/k0yuvpEBEigEShcSsQNszSwKYKbJA9dkB19kTt0D9ogT9aWK+QLKFIAf3vcJAPdUhN0vrxUCzJEBNQerGQCT7IMtWW7tACahwBJ1BuUA0FHe8MZ25QEvnw7PyEsJA",
          "dtype": "f8"
         },
         "y": {
          "bdata": "ilAGAM3BBgCgPQcAK6UHAD4NCADJiwgAdJUIAIGwCAA1fAkAq5EKAGb9CgDAcgoA",
          "dtype": "i4"
         },
         "z": {
          "bdata": "oAelB6oHrwe0B7kHvgfDB8gHzQfSB9cH",
          "dtype": "i2"
         }
        },
        {
         "hovertemplate": "country=Netherlands<br>gdpPercap=%{x}<br>pop=%{y}<br>year=%{z}<extra></extra>",
         "legendgroup": "Netherlands",
         "line": {
          "color": "#B6E880",
          "dash": "solid"
         },
         "marker": {
          "symbol": "circle"
         },
         "mode": "lines",
         "name": "Netherlands",
         "scene": "scene",
         "showlegend": true,
         "type": "scatter3d",
         "x": {
          "bdata": "+pekMsl2wUDeVKTCGAbGQP/PYb5s+8hAw4GQLKABzkDnqQ65r1rSQPvL7slDttRARzgteN3l1ECqtwa21BjXQH0Faca8KdpAeO49XIiJ3UCy17s/mHfgQJbnwd299+FA",
          "dtype": "f8"
         },
         "y": {
          "bdata": "pGqeAM8/qAD5I7QAVjbAANJlywA9YdMAAVzaAD7G3wBkiucA8BruAM4D9gD12PwA",
          "dtype": "i4"
         },
         "z": {
          "bdata": "oAelB6oHrwe0B7kHvgfDB8gHzQfSB9cH",
          "dtype": "i2"
         }
        },
        {
         "hovertemplate": "country=Norway<br>gdpPercap=%{x}<br>pop=%{y}<br>year=%{z}<extra></extra>",
         "legendgroup": "Norway",
         "line": {
          "color": "#FF97FF",
          "dash": "solid"
         },
         "marker": {
          "symbol": "circle"
         },
         "mode": "lines",
         "name": "Norway",
         "scene": "scene",
         "showlegend": true,
         "type": "scatter3d",
         "x": {
          "bdata": "CcTr+rW3w0DaIJOM/MLGQIL/rWQzRcpA9kArMPD0z0Cm0HmNQ4XSQOPfZ1zWw9ZANUbrqKiu2UAJih9jPs3eQHgLJCi1leBA+PwwQmUo5EDufD81f9HlQFZl3xWmGehA",
          "dtype": "f8"
         },
         "y": {
          "bdata": "8MYyAGJINQCHhjcAI8U5AEwDPADFsT0AY8k+ACPgPwCVZ0EAqDlDACc1RQDWnUYA",
          "dtype": "i4"
         },
         "z": {
          "bdata": "oAelB6oHrwe0B7kHvgfDB8gHzQfSB9cH",
          "dtype": "i2"
         }
        },
        {
         "hovertemplate": "country=Poland<br>gdpPercap=%{x}<br>pop=%{y}<br>year=%{z}<extra></extra>",
         "legendgroup": "Poland",
         "line": {
          "color": "#FECB52",
          "dash": "solid"
         },
         "marker": {
          "symbol": "circle"
         },
         "mode": "lines",
         "name": "Poland",
         "scene": "scene",
         "showlegend": true,
         "type": "scatter3d",
         "x": {
          "bdata": "DK1Ozqh6r0BEatrFQH6yQOqScYzA2rRAnfNTHCeduUBOEkvKgUa/QPInKhsSksJABmfw98OBwECjPzTzLL3BQLNEZ5nhOr5AqrcGtsrXw0CQZiyaHnHHQKML6lv2Ds5A",
          "dtype": "f8"
         },
         "y": {
          "bdata": "952IAVLWrgERy84BogHlAbkk+AFGRxACNckoAqbgPwKJfUkC7dNNArhiTQLhvUsC",
          "dtype": "i4"
         },
         "z": {
          "bdata": "oAelB6oHrwe0B7kHvgfDB8gHzQfSB9cH",
          "dtype": "i2"
         }
        },
        {
         "hovertemplate": "country=Portugal<br>gdpPercap=%{x}<br>pop=%{y}<br>year=%{z}<extra></extra>",
         "legendgroup": "Portugal",
         "line": {
          "color": "#636efa",
          "dash": "solid"
         },
         "marker": {
          "symbol": "circle"
         },
         "mode": "lines",
         "name": "Portugal",
         "scene": "scene",
         "showlegend": true,
         "type": "scatter3d",
         "x": {
          "bdata": "JICbxaP4p0BvnX+7JH2tQE8Cm3P0d7JAj3Iwm4TZuEC9OVyrH5/BQIKtEiw+3sNAvJF55Ov0xkAom3KFp3fJQBKN7iCip89A9zsUBUI60UDBxYoauoDTQFVNEHVpB9RA",
          "dtype": "f8"
         },
         "y": {
          "bdata": "4hiCAPKLhgCYoYkAmOaKANLgiACIcJMAQnKWAJlLlwAAfJcAf/maAEs1nwCUZaIA",
          "dtype": "i4"
         },
         "z": {
          "bdata": "oAelB6oHrwe0B7kHvgfDB8gHzQfSB9cH",
          "dtype": "i2"
         }
        },
        {
         "hovertemplate": "country=Romania<br>gdpPercap=%{x}<br>pop=%{y}<br>year=%{z}<extra></extra>",
         "legendgroup": "Romania",
         "line": {
          "color": "#EF553B",
          "dash": "solid"
         },
         "marker": {
          "symbol": "circle"
         },
         "mode": "lines",
         "name": "Romania",
         "scene": "scene",
         "showlegend": true,
         "type": "scatter3d",
         "x": {
          "bdata": "u/CD8zmRqEBTliGOvc6uQPPMy2H/frJAg6Pk1d1GuUBk3T8Waku/QFWkwtgyRsJAG4LjMqjCwkCVn1T7IvDCQIgrZ+9oxrlAsQ+yLIyyvEDptkQuXM2+QNPZyeA8HMVA",
          "dtype": "f8"
         },
         "y": {
          "bdata": "8MD9AM8NEAGRCx0BTkMmAXhJOwHle0oB9iJVAaMqWgHj2lsBmkZYAfHcVQHY51MB",
          "dtype": "i4"
         },
         "z": {
          "bdata": "oAelB6oHrwe0B7kHvgfDB8gHzQfSB9cH",
          "dtype": "i2"
         }
        },
        {
         "hovertemplate": "country=Serbia<br>gdpPercap=%{x}<br>pop=%{y}<br>year=%{z}<extra></extra>",
         "legendgroup": "Serbia",
         "line": {
          "color": "#00cc96",
          "dash": "solid"
         },
         "marker": {
          "symbol": "circle"
         },
         "mode": "lines",
         "name": "Serbia",
         "scene": "scene",
         "showlegend": true,
         "type": "scatter3d",
         "x": {
          "bdata": "bazEPOv6q0CA8KFEF3WzQA3jbhChkbhAHQJHArU3v0BnJ4OjCI3EQFtfJLRVWslAK/aX3YumzUCbAwRzcP/OQCzVBbyINsJAyWRx/1HqvkD+R6ZDE0S8QFsjgnFEHcNA",
          "dtype": "f8"
         },
         "y": {
          "bdata": "c61oAN/ybgA8NnQAlqF5AMjZfgAfi4QAeNSJAL/ZjABd8JUAUrmdAEdKmgB54ZoA",
          "dtype": "i4"
         },
         "z": {
          "bdata": "oAelB6oHrwe0B7kHvgfDB8gHzQfSB9cH",
          "dtype": "i2"
         }
        },
        {
         "hovertemplate": "country=Slovak Republic<br>gdpPercap=%{x}<br>pop=%{y}<br>year=%{z}<extra></extra>",
         "legendgroup": "Slovak Republic",
         "line": {
          "color": "#ab63fa",
          "dash": "solid"
         },
         "marker": {
          "symbol": "circle"
         },
         "mode": "lines",
         "name": "Slovak Republic",
         "scene": "scene",
         "showlegend": true,
         "type": "scatter3d",
         "x": {
          "bdata": "qiwKu6jSs0CBQ6hSQ823QB3jiosbOb1AgbG+gXNuwED7zcR0FeXCQJ5BQ/9UVcVAQ61p3kUqxkCIug9AooLHQEvmWN47jcJAaW/whR2vx0AXz6ChY6PKQGB2Tx6UPdJA",
          "dtype": "f8"
         },
         "y": {
          "bdata": "+Uo2ALWoOgBIqEAAfshDABkXRgCbqkkA6wZNANZVTwBo6lAAYiNSAASNUgBOH1MA",
          "dtype": "i4"
         },
         "z": {
          "bdata": "oAelB6oHrwe0B7kHvgfDB8gHzQfSB9cH",
          "dtype": "i2"
         }
        },
        {
         "hovertemplate": "country=Slovenia<br>gdpPercap=%{x}<br>pop=%{y}<br>year=%{z}<extra></extra>",
         "legendgroup": "Slovenia",
         "line": {
          "color": "#FFA15A",
          "dash": "solid"
         },
         "marker": {
          "symbol": "circle"
         },
         "mode": "lines",
         "name": "Slovenia",
         "scene": "scene",
         "showlegend": true,
         "type": "scatter3d",
         "x": {
          "bdata": "58WJrwp3sEAgfCjRRua2QMVyS6tN6rxA4ZaPpL5ewkCoNc07vi/IQKhNnNyD1s1AeekmMa5y0UB+GCE8oj3SQLkZbsBbw8tAzojS3kbC0EC2uTE9AS3UQHLEWnwQKtlA",
          "dtype": "f8"
         },
         "y": {
          "bdata": "broWAI5kFwByJxgAQCEZAC7bGQDnpxoAhGYcAA6xHQBqgR4A3LEeAGmxHgCdqB4A",
          "dtype": "i4"
         },
         "z": {
          "bdata": "oAelB6oHrwe0B7kHvgfDB8gHzQfSB9cH",
          "dtype": "i2"
         }
        },
        {
         "hovertemplate": "country=Spain<br>gdpPercap=%{x}<br>pop=%{y}<br>year=%{z}<extra></extra>",
         "legendgroup": "Spain",
         "line": {
          "color": "#19d3f3",
          "dash": "solid"
         },
         "marker": {
          "symbol": "circle"
         },
         "mode": "lines",
         "name": "Spain",
         "scene": "scene",
         "showlegend": true,
         "type": "scatter3d",
         "x": {
          "bdata": "mBO0yRH0rUD8471qzdSxQMhCdAjYPbZA8BezJYM5v0CUE+0qYMfEQAcI5uh12slAp7OTwRUzy0DcLjTXfcrOQHx+GCHEKtJAtB8pIlP300C1bK0v3kDYQDAqqRNEJdxA",
          "dtype": "f8"
         },
         "y": {
          "bdata": "7qKzAc5YxwEtb9sBY0H1AQmhDgLYAywCTpRDAr5FUQL+eVsCUiVgAsWtZAK/MGkC",
          "dtype": "i4"
         },
         "z": {
          "bdata": "oAelB6oHrwe0B7kHvgfDB8gHzQfSB9cH",
          "dtype": "i2"
         }
        },
        {
         "hovertemplate": "country=Sweden<br>gdpPercap=%{x}<br>pop=%{y}<br>year=%{z}<extra></extra>",
         "legendgroup": "Sweden",
         "line": {
          "color": "#FF6692",
          "dash": "solid"
         },
         "marker": {
          "symbol": "circle"
         },
         "mode": "lines",
         "name": "Sweden",
         "scene": "scene",
         "showlegend": true,
         "type": "scatter3d",
         "x": {
          "bdata": "F2niHeynwEBAprVp8FvDQLml1ZC4FMhA8uocAybNzUCLprOTAWrRQC8012nuadJAZmZmZtgu1EDK4Ch5uwjXQOYivhMBUtdA3e9QFKas2EAGOShhaKfcQP+ye/J3iOBA",
          "dtype": "f8"
         },
         "y": {
          "bdata": "wbZsANpccAB0YXMAGw54ALXvewAA6X0AjAh/ABuAgAATCoUAU8SHAD+hiACwzYkA",
          "dtype": "i4"
         },
         "z": {
          "bdata": "oAelB6oHrwe0B7kHvgfDB8gHzQfSB9cH",
          "dtype": "i2"
         }
        },
        {
         "hovertemplate": "country=Switzerland<br>gdpPercap=%{x}<br>pop=%{y}<br>year=%{z}<extra></extra>",
         "legendgroup": "Switzerland",
         "line": {
          "color": "#B6E880",
          "dash": "solid"
         },
         "marker": {
          "symbol": "circle"
         },
         "mode": "lines",
         "name": "Switzerland",
         "scene": "scene",
         "showlegend": true,
         "type": "scatter3d",
         "x": {
          "bdata": "EoPAyh3HzEB4f7xXX33RQBb7y+7F89NACvSJPIlt1kDJHww8x47aQLUy4ZeSWdpALq2GxG2720DGpwAYbZLdQERpb/DhH99AkyIyrNRh30AicY+lHtbgQBh9BWlNUOJA",
          "dtype": "f8"
         },
         "y": {
          "bdata": "mHhJAHA3TgDQdFYAmINcAHitYQCIYWAAHrJiAFZ4ZQD3vWoAocRtAN1UcABlRnMA",
          "dtype": "i4"
         },
         "z": {
          "bdata": "oAelB6oHrwe0B7kHvgfDB8gHzQfSB9cH",
          "dtype": "i2"
         }
        },
        {
         "hovertemplate": "country=Turkey<br>gdpPercap=%{x}<br>pop=%{y}<br>year=%{z}<extra></extra>",
         "legendgroup": "Turkey",
         "line": {
          "color": "#FF97FF",
          "dash": "solid"
         },
         "marker": {
          "symbol": "circle"
         },
         "mode": "lines",
         "name": "Turkey",
         "scene": "scene",
         "showlegend": true,
         "type": "scatter3d",
         "x": {
          "bdata": "MxZNZ2fEnkCPN/ktglWhQA/VlGS9JaJAcltbeLYUpkAtW+uLZPWqQHO5wVAfrbBAIEJcOVuRsEBLdQEvC+GzQCXLSShZLrZAD9HoDm7JuUCuZp3xFWy5QJIIjWAjhcBA",
          "dtype": "f8"
         },
         "y": {
          "bdata": "HUpTARu1hwEXisYB9dD9AdkYPALBCIcCFy7SArDnJgNIvncD3wfCA4ANAwR3yz0E",
          "dtype": "i4"
         },
         "z": {
          "bdata": "oAelB6oHrwe0B7kHvgfDB8gHzQfSB9cH",
          "dtype": "i2"
         }
        },
        {
         "hovertemplate": "country=United Kingdom<br>gdpPercap=%{x}<br>pop=%{y}<br>year=%{z}<extra></extra>",
         "legendgroup": "United Kingdom",
         "line": {
          "color": "#FECB52",
          "dash": "solid"
         },
         "marker": {
          "symbol": "circle"
         },
         "mode": "lines",
         "name": "United Kingdom",
         "scene": "scene",
         "showlegend": true,
         "type": "scatter3d",
         "x": {
          "bdata": "uB0aFsF9w0ApyxDHlgnGQI3ROqqWXshAP6n26Wyfy0B324XmjgvPQJfFxOYvBdFAIO9VKxvO0UCDbi9pMijVQGXkLOxFLNZAml/NAaJ22UAfnbryv8ncQOPfZ1xoNuBA",
          "dtype": "f8"
         },
         "y": {
          "bdata": "MIABA3DCEAPgKy0DmJtGA5iyVwM4OVkD+KxbA3R4ZQNt+HIDyleBA+8wkgMuX58D",
          "dtype": "i4"
         },
         "z": {
          "bdata": "oAelB6oHrwe0B7kHvgfDB8gHzQfSB9cH",
          "dtype": "i2"
         }
        }
       ],
       "layout": {
        "legend": {
         "title": {
          "text": "country"
         },
         "tracegroupgap": 0
        },
        "margin": {
         "t": 60
        },
        "scene": {
         "domain": {
          "x": [
           0,
           1
          ],
          "y": [
           0,
           1
          ]
         },
         "xaxis": {
          "title": {
           "text": "gdpPercap"
          }
         },
         "yaxis": {
          "title": {
           "text": "pop"
          }
         },
         "zaxis": {
          "title": {
           "text": "year"
          }
         }
        },
        "template": {
         "data": {
          "bar": [
           {
            "error_x": {
             "color": "#2a3f5f"
            },
            "error_y": {
             "color": "#2a3f5f"
            },
            "marker": {
             "line": {
              "color": "#E5ECF6",
              "width": 0.5
             },
             "pattern": {
              "fillmode": "overlay",
              "size": 10,
              "solidity": 0.2
             }
            },
            "type": "bar"
           }
          ],
          "barpolar": [
           {
            "marker": {
             "line": {
              "color": "#E5ECF6",
              "width": 0.5
             },
             "pattern": {
              "fillmode": "overlay",
              "size": 10,
              "solidity": 0.2
             }
            },
            "type": "barpolar"
           }
          ],
          "carpet": [
           {
            "aaxis": {
             "endlinecolor": "#2a3f5f",
             "gridcolor": "white",
             "linecolor": "white",
             "minorgridcolor": "white",
             "startlinecolor": "#2a3f5f"
            },
            "baxis": {
             "endlinecolor": "#2a3f5f",
             "gridcolor": "white",
             "linecolor": "white",
             "minorgridcolor": "white",
             "startlinecolor": "#2a3f5f"
            },
            "type": "carpet"
           }
          ],
          "choropleth": [
           {
            "colorbar": {
             "outlinewidth": 0,
             "ticks": ""
            },
            "type": "choropleth"
           }
          ],
          "contour": [
           {
            "colorbar": {
             "outlinewidth": 0,
             "ticks": ""
            },
            "colorscale": [
             [
              0,
              "#0d0887"
             ],
             [
              0.1111111111111111,
              "#46039f"
             ],
             [
              0.2222222222222222,
              "#7201a8"
             ],
             [
              0.3333333333333333,
              "#9c179e"
             ],
             [
              0.4444444444444444,
              "#bd3786"
             ],
             [
              0.5555555555555556,
              "#d8576b"
             ],
             [
              0.6666666666666666,
              "#ed7953"
             ],
             [
              0.7777777777777778,
              "#fb9f3a"
             ],
             [
              0.8888888888888888,
              "#fdca26"
             ],
             [
              1,
              "#f0f921"
             ]
            ],
            "type": "contour"
           }
          ],
          "contourcarpet": [
           {
            "colorbar": {
             "outlinewidth": 0,
             "ticks": ""
            },
            "type": "contourcarpet"
           }
          ],
          "heatmap": [
           {
            "colorbar": {
             "outlinewidth": 0,
             "ticks": ""
            },
            "colorscale": [
             [
              0,
              "#0d0887"
             ],
             [
              0.1111111111111111,
              "#46039f"
             ],
             [
              0.2222222222222222,
              "#7201a8"
             ],
             [
              0.3333333333333333,
              "#9c179e"
             ],
             [
              0.4444444444444444,
              "#bd3786"
             ],
             [
              0.5555555555555556,
              "#d8576b"
             ],
             [
              0.6666666666666666,
              "#ed7953"
             ],
             [
              0.7777777777777778,
              "#fb9f3a"
             ],
             [
              0.8888888888888888,
              "#fdca26"
             ],
             [
              1,
              "#f0f921"
             ]
            ],
            "type": "heatmap"
           }
          ],
          "histogram": [
           {
            "marker": {
             "pattern": {
              "fillmode": "overlay",
              "size": 10,
              "solidity": 0.2
             }
            },
            "type": "histogram"
           }
          ],
          "histogram2d": [
           {
            "colorbar": {
             "outlinewidth": 0,
             "ticks": ""
            },
            "colorscale": [
             [
              0,
              "#0d0887"
             ],
             [
              0.1111111111111111,
              "#46039f"
             ],
             [
              0.2222222222222222,
              "#7201a8"
             ],
             [
              0.3333333333333333,
              "#9c179e"
             ],
             [
              0.4444444444444444,
              "#bd3786"
             ],
             [
              0.5555555555555556,
              "#d8576b"
             ],
             [
              0.6666666666666666,
              "#ed7953"
             ],
             [
              0.7777777777777778,
              "#fb9f3a"
             ],
             [
              0.8888888888888888,
              "#fdca26"
             ],
             [
              1,
              "#f0f921"
             ]
            ],
            "type": "histogram2d"
           }
          ],
          "histogram2dcontour": [
           {
            "colorbar": {
             "outlinewidth": 0,
             "ticks": ""
            },
            "colorscale": [
             [
              0,
              "#0d0887"
             ],
             [
              0.1111111111111111,
              "#46039f"
             ],
             [
              0.2222222222222222,
              "#7201a8"
             ],
             [
              0.3333333333333333,
              "#9c179e"
             ],
             [
              0.4444444444444444,
              "#bd3786"
             ],
             [
              0.5555555555555556,
              "#d8576b"
             ],
             [
              0.6666666666666666,
              "#ed7953"
             ],
             [
              0.7777777777777778,
              "#fb9f3a"
             ],
             [
              0.8888888888888888,
              "#fdca26"
             ],
             [
              1,
              "#f0f921"
             ]
            ],
            "type": "histogram2dcontour"
           }
          ],
          "mesh3d": [
           {
            "colorbar": {
             "outlinewidth": 0,
             "ticks": ""
            },
            "type": "mesh3d"
           }
          ],
          "parcoords": [
           {
            "line": {
             "colorbar": {
              "outlinewidth": 0,
              "ticks": ""
             }
            },
            "type": "parcoords"
           }
          ],
          "pie": [
           {
            "automargin": true,
            "type": "pie"
           }
          ],
          "scatter": [
           {
            "fillpattern": {
             "fillmode": "overlay",
             "size": 10,
             "solidity": 0.2
            },
            "type": "scatter"
           }
          ],
          "scatter3d": [
           {
            "line": {
             "colorbar": {
              "outlinewidth": 0,
              "ticks": ""
             }
            },
            "marker": {
             "colorbar": {
              "outlinewidth": 0,
              "ticks": ""
             }
            },
            "type": "scatter3d"
           }
          ],
          "scattercarpet": [
           {
            "marker": {
             "colorbar": {
              "outlinewidth": 0,
              "ticks": ""
             }
            },
            "type": "scattercarpet"
           }
          ],
          "scattergeo": [
           {
            "marker": {
             "colorbar": {
              "outlinewidth": 0,
              "ticks": ""
             }
            },
            "type": "scattergeo"
           }
          ],
          "scattergl": [
           {
            "marker": {
             "colorbar": {
              "outlinewidth": 0,
              "ticks": ""
             }
            },
            "type": "scattergl"
           }
          ],
          "scattermap": [
           {
            "marker": {
             "colorbar": {
              "outlinewidth": 0,
              "ticks": ""
             }
            },
            "type": "scattermap"
           }
          ],
          "scattermapbox": [
           {
            "marker": {
             "colorbar": {
              "outlinewidth": 0,
              "ticks": ""
             }
            },
            "type": "scattermapbox"
           }
          ],
          "scatterpolar": [
           {
            "marker": {
             "colorbar": {
              "outlinewidth": 0,
              "ticks": ""
             }
            },
            "type": "scatterpolar"
           }
          ],
          "scatterpolargl": [
           {
            "marker": {
             "colorbar": {
              "outlinewidth": 0,
              "ticks": ""
             }
            },
            "type": "scatterpolargl"
           }
          ],
          "scatterternary": [
           {
            "marker": {
             "colorbar": {
              "outlinewidth": 0,
              "ticks": ""
             }
            },
            "type": "scatterternary"
           }
          ],
          "surface": [
           {
            "colorbar": {
             "outlinewidth": 0,
             "ticks": ""
            },
            "colorscale": [
             [
              0,
              "#0d0887"
             ],
             [
              0.1111111111111111,
              "#46039f"
             ],
             [
              0.2222222222222222,
              "#7201a8"
             ],
             [
              0.3333333333333333,
              "#9c179e"
             ],
             [
              0.4444444444444444,
              "#bd3786"
             ],
             [
              0.5555555555555556,
              "#d8576b"
             ],
             [
              0.6666666666666666,
              "#ed7953"
             ],
             [
              0.7777777777777778,
              "#fb9f3a"
             ],
             [
              0.8888888888888888,
              "#fdca26"
             ],
             [
              1,
              "#f0f921"
             ]
            ],
            "type": "surface"
           }
          ],
          "table": [
           {
            "cells": {
             "fill": {
              "color": "#EBF0F8"
             },
             "line": {
              "color": "white"
             }
            },
            "header": {
             "fill": {
              "color": "#C8D4E3"
             },
             "line": {
              "color": "white"
             }
            },
            "type": "table"
           }
          ]
         },
         "layout": {
          "annotationdefaults": {
           "arrowcolor": "#2a3f5f",
           "arrowhead": 0,
           "arrowwidth": 1
          },
          "autotypenumbers": "strict",
          "coloraxis": {
           "colorbar": {
            "outlinewidth": 0,
            "ticks": ""
           }
          },
          "colorscale": {
           "diverging": [
            [
             0,
             "#8e0152"
            ],
            [
             0.1,
             "#c51b7d"
            ],
            [
             0.2,
             "#de77ae"
            ],
            [
             0.3,
             "#f1b6da"
            ],
            [
             0.4,
             "#fde0ef"
            ],
            [
             0.5,
             "#f7f7f7"
            ],
            [
             0.6,
             "#e6f5d0"
            ],
            [
             0.7,
             "#b8e186"
            ],
            [
             0.8,
             "#7fbc41"
            ],
            [
             0.9,
             "#4d9221"
            ],
            [
             1,
             "#276419"
            ]
           ],
           "sequential": [
            [
             0,
             "#0d0887"
            ],
            [
             0.1111111111111111,
             "#46039f"
            ],
            [
             0.2222222222222222,
             "#7201a8"
            ],
            [
             0.3333333333333333,
             "#9c179e"
            ],
            [
             0.4444444444444444,
             "#bd3786"
            ],
            [
             0.5555555555555556,
             "#d8576b"
            ],
            [
             0.6666666666666666,
             "#ed7953"
            ],
            [
             0.7777777777777778,
             "#fb9f3a"
            ],
            [
             0.8888888888888888,
             "#fdca26"
            ],
            [
             1,
             "#f0f921"
            ]
           ],
           "sequentialminus": [
            [
             0,
             "#0d0887"
            ],
            [
             0.1111111111111111,
             "#46039f"
            ],
            [
             0.2222222222222222,
             "#7201a8"
            ],
            [
             0.3333333333333333,
             "#9c179e"
            ],
            [
             0.4444444444444444,
             "#bd3786"
            ],
            [
             0.5555555555555556,
             "#d8576b"
            ],
            [
             0.6666666666666666,
             "#ed7953"
            ],
            [
             0.7777777777777778,
             "#fb9f3a"
            ],
            [
             0.8888888888888888,
             "#fdca26"
            ],
            [
             1,
             "#f0f921"
            ]
           ]
          },
          "colorway": [
           "#636efa",
           "#EF553B",
           "#00cc96",
           "#ab63fa",
           "#FFA15A",
           "#19d3f3",
           "#FF6692",
           "#B6E880",
           "#FF97FF",
           "#FECB52"
          ],
          "font": {
           "color": "#2a3f5f"
          },
          "geo": {
           "bgcolor": "white",
           "lakecolor": "white",
           "landcolor": "#E5ECF6",
           "showlakes": true,
           "showland": true,
           "subunitcolor": "white"
          },
          "hoverlabel": {
           "align": "left"
          },
          "hovermode": "closest",
          "mapbox": {
           "style": "light"
          },
          "paper_bgcolor": "white",
          "plot_bgcolor": "#E5ECF6",
          "polar": {
           "angularaxis": {
            "gridcolor": "white",
            "linecolor": "white",
            "ticks": ""
           },
           "bgcolor": "#E5ECF6",
           "radialaxis": {
            "gridcolor": "white",
            "linecolor": "white",
            "ticks": ""
           }
          },
          "scene": {
           "xaxis": {
            "backgroundcolor": "#E5ECF6",
            "gridcolor": "white",
            "gridwidth": 2,
            "linecolor": "white",
            "showbackground": true,
            "ticks": "",
            "zerolinecolor": "white"
           },
           "yaxis": {
            "backgroundcolor": "#E5ECF6",
            "gridcolor": "white",
            "gridwidth": 2,
            "linecolor": "white",
            "showbackground": true,
            "ticks": "",
            "zerolinecolor": "white"
           },
           "zaxis": {
            "backgroundcolor": "#E5ECF6",
            "gridcolor": "white",
            "gridwidth": 2,
            "linecolor": "white",
            "showbackground": true,
            "ticks": "",
            "zerolinecolor": "white"
           }
          },
          "shapedefaults": {
           "line": {
            "color": "#2a3f5f"
           }
          },
          "ternary": {
           "aaxis": {
            "gridcolor": "white",
            "linecolor": "white",
            "ticks": ""
           },
           "baxis": {
            "gridcolor": "white",
            "linecolor": "white",
            "ticks": ""
           },
           "bgcolor": "#E5ECF6",
           "caxis": {
            "gridcolor": "white",
            "linecolor": "white",
            "ticks": ""
           }
          },
          "title": {
           "x": 0.05
          },
          "xaxis": {
           "automargin": true,
           "gridcolor": "white",
           "linecolor": "white",
           "ticks": "",
           "title": {
            "standoff": 15
           },
           "zerolinecolor": "white",
           "zerolinewidth": 2
          },
          "yaxis": {
           "automargin": true,
           "gridcolor": "white",
           "linecolor": "white",
           "ticks": "",
           "title": {
            "standoff": 15
           },
           "zerolinecolor": "white",
           "zerolinewidth": 2
          }
         }
        }
       }
      },
      "image/png": "[encoded data removed]"
     },
     "metadata": {},
     "output_type": "display_data"
    }
   ],
   "source": [
    "import plotly.express as px\n",
    "df = px.data.gapminder().query(\"continent=='Europe'\")\n",
    "fig = px.line_3d(df, x=\"gdpPercap\", y=\"pop\", z=\"year\", color='country')\n",
    "fig.show()"
   ]
  }
 ],
 "metadata": {
  "kernelspec": {
   "display_name": "Python 3 (ipykernel)",
   "language": "python",
   "name": "python3"
  },
  "language_info": {
   "codemirror_mode": {
    "name": "ipython",
    "version": 3
   },
   "file_extension": ".py",
   "mimetype": "text/x-python",
   "name": "python",
   "nbconvert_exporter": "python",
   "pygments_lexer": "ipython3",
   "version": "3.11.4"
  }
 },
 "nbformat": 4,
 "nbformat_minor": 5
}
